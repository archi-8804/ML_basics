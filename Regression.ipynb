{
 "cells": [
  {
   "cell_type": "code",
   "execution_count": 9,
   "id": "0b461fc2",
   "metadata": {},
   "outputs": [],
   "source": [
    "import pandas as pd\n",
    "import quandl"
   ]
  },
  {
   "cell_type": "code",
   "execution_count": 10,
   "id": "a1f48bae",
   "metadata": {},
   "outputs": [],
   "source": [
    "quandl.ApiConfig.api_key = 'm99VWTcvj3seBpyAkU_n'\n",
    "df = quandl.get('WIKI/GOOGL')\n"
   ]
  },
  {
   "cell_type": "code",
   "execution_count": 15,
   "id": "4e1d6489",
   "metadata": {},
   "outputs": [],
   "source": [
    "df= df[['Adj. Open','Adj. High','Adj. Low','Adj. Close','Adj. Volume']]"
   ]
  },
  {
   "cell_type": "code",
   "execution_count": 16,
   "id": "0191b4ce",
   "metadata": {},
   "outputs": [
    {
     "name": "stdout",
     "output_type": "stream",
     "text": [
      "<bound method NDFrame.head of               Adj. Open    Adj. High     Adj. Low   Adj. Close  Adj. Volume\n",
      "Date                                                                       \n",
      "2004-08-19    50.159839    52.191109    48.128568    50.322842   44659000.0\n",
      "2004-08-20    50.661387    54.708881    50.405597    54.322689   22834300.0\n",
      "2004-08-23    55.551482    56.915693    54.693835    54.869377   18256100.0\n",
      "2004-08-24    55.792225    55.972783    51.945350    52.597363   15247300.0\n",
      "2004-08-25    52.542193    54.167209    52.100830    53.164113    9188600.0\n",
      "...                 ...          ...          ...          ...          ...\n",
      "2018-03-21  1092.570000  1108.700000  1087.210000  1094.000000    1990515.0\n",
      "2018-03-22  1080.010000  1083.920000  1049.640000  1053.150000    3418154.0\n",
      "2018-03-23  1051.370000  1066.780000  1024.870000  1026.550000    2413517.0\n",
      "2018-03-26  1050.600000  1059.270000  1010.580000  1054.090000    3272409.0\n",
      "2018-03-27  1063.900000  1064.540000   997.620000  1006.940000    2940957.0\n",
      "\n",
      "[3424 rows x 5 columns]>\n"
     ]
    }
   ],
   "source": [
    "print (df.head)"
   ]
  },
  {
   "cell_type": "code",
   "execution_count": 18,
   "id": "fe360104",
   "metadata": {},
   "outputs": [
    {
     "name": "stderr",
     "output_type": "stream",
     "text": [
      "C:\\Users\\Archi\\AppData\\Local\\Temp\\ipykernel_26736\\893301730.py:1: SettingWithCopyWarning: \n",
      "A value is trying to be set on a copy of a slice from a DataFrame.\n",
      "Try using .loc[row_indexer,col_indexer] = value instead\n",
      "\n",
      "See the caveats in the documentation: https://pandas.pydata.org/pandas-docs/stable/user_guide/indexing.html#returning-a-view-versus-a-copy\n",
      "  df['HL_PCT']=(df['Adj. High'])- df['Adj. Close']/df['Adj. Close']*100.0\n",
      "C:\\Users\\Archi\\AppData\\Local\\Temp\\ipykernel_26736\\893301730.py:2: SettingWithCopyWarning: \n",
      "A value is trying to be set on a copy of a slice from a DataFrame.\n",
      "Try using .loc[row_indexer,col_indexer] = value instead\n",
      "\n",
      "See the caveats in the documentation: https://pandas.pydata.org/pandas-docs/stable/user_guide/indexing.html#returning-a-view-versus-a-copy\n",
      "  df['PCT_change']=(df['Adj. Close'])- df['Adj. Open']/df['Adj. Open']*100.0\n"
     ]
    }
   ],
   "source": [
    "df['HL_PCT']=(df['Adj. High'])- df['Adj. Close']/df['Adj. Close']*100.0\n",
    "df['PCT_change']=(df['Adj. Close'])- df['Adj. Open']/df['Adj. Open']*100.0"
   ]
  },
  {
   "cell_type": "code",
   "execution_count": 19,
   "id": "ae91afcb",
   "metadata": {},
   "outputs": [],
   "source": [
    "df=df[['Adj. Close','HL_PCT','PCT_change','Adj. Volume']]"
   ]
  },
  {
   "cell_type": "code",
   "execution_count": 20,
   "id": "0e001164",
   "metadata": {},
   "outputs": [
    {
     "data": {
      "text/plain": [
       "<bound method NDFrame.head of              Adj. Close       HL_PCT  PCT_change  Adj. Volume\n",
       "Date                                                         \n",
       "2004-08-19    50.322842   -47.808891  -49.677158   44659000.0\n",
       "2004-08-20    54.322689   -45.291119  -45.677311   22834300.0\n",
       "2004-08-23    54.869377   -43.084307  -45.130623   18256100.0\n",
       "2004-08-24    52.597363   -44.027217  -47.402637   15247300.0\n",
       "2004-08-25    53.164113   -45.832791  -46.835887    9188600.0\n",
       "...                 ...          ...         ...          ...\n",
       "2018-03-21  1094.000000  1008.700000  994.000000    1990515.0\n",
       "2018-03-22  1053.150000   983.920000  953.150000    3418154.0\n",
       "2018-03-23  1026.550000   966.780000  926.550000    2413517.0\n",
       "2018-03-26  1054.090000   959.270000  954.090000    3272409.0\n",
       "2018-03-27  1006.940000   964.540000  906.940000    2940957.0\n",
       "\n",
       "[3424 rows x 4 columns]>"
      ]
     },
     "execution_count": 20,
     "metadata": {},
     "output_type": "execute_result"
    }
   ],
   "source": [
    "df.head"
   ]
  },
  {
   "cell_type": "code",
   "execution_count": null,
   "id": "b56ed7f7",
   "metadata": {},
   "outputs": [],
   "source": []
  }
 ],
 "metadata": {
  "kernelspec": {
   "display_name": "Python 3 (ipykernel)",
   "language": "python",
   "name": "python3"
  },
  "language_info": {
   "codemirror_mode": {
    "name": "ipython",
    "version": 3
   },
   "file_extension": ".py",
   "mimetype": "text/x-python",
   "name": "python",
   "nbconvert_exporter": "python",
   "pygments_lexer": "ipython3",
   "version": "3.10.8"
  }
 },
 "nbformat": 4,
 "nbformat_minor": 5
}
